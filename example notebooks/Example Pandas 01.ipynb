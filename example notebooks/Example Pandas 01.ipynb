{
 "cells": [
  {
   "cell_type": "markdown",
   "metadata": {
    "id": "qwy-GHetvvQU"
   },
   "source": [
    "![pandas.jpg](data:image/jpeg;base64,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)"
   ]
  },
  {
   "cell_type": "markdown",
   "metadata": {
    "id": "CLK9yuD0NM2U"
   },
   "source": [
    "<div dir=rtl>\n",
    "<H1>כותרת 1 בעברית עם English, יפה לא?</H1>\n",
    "<H2>כותרת 2 בעברית</H2>\n",
    "<H2><B>כותרת 2 מודגשת בעברית</B></H2>\n",
    "<H3>כותרת 3 בעברית</H3>\n",
    "<H4>כותרת 4 בעברית</H4>\n",
    "<H5>כותרת 5 בעברית</H5>\n",
    "<H6>כותרת 6 בעברית</H6>"
   ]
  },
  {
   "cell_type": "code",
   "execution_count": null,
   "metadata": {},
   "outputs": [],
   "source": []
  },
  {
   "cell_type": "code",
   "execution_count": 32,
   "metadata": {
    "id": "QfyQV7IjC6vm"
   },
   "outputs": [],
   "source": [
    "import numpy as np\n",
    "import pandas as pd"
   ]
  },
  {
   "cell_type": "code",
   "execution_count": null,
   "metadata": {},
   "outputs": [],
   "source": []
  },
  {
   "cell_type": "markdown",
   "metadata": {
    "id": "ucJ1c6-JDLJb"
   },
   "source": [
    "# Pandas Series\n"
   ]
  },
  {
   "cell_type": "code",
   "execution_count": null,
   "metadata": {
    "colab": {
     "base_uri": "https://localhost:8080/"
    },
    "executionInfo": {
     "elapsed": 7,
     "status": "ok",
     "timestamp": 1633073821718,
     "user": {
      "displayName": "Ariel Bar-Itzhack",
      "photoUrl": "https://lh3.googleusercontent.com/a-/AOh14Ghjyk_Pl9_Y9tLs8Ym-Tx3xGMUpHJ52LGBHF29BFA=s64",
      "userId": "04967967438441736720"
     },
     "user_tz": -180
    },
    "id": "cxfubeLcDYNy",
    "outputId": "a8f12417-483e-46fb-f517-2a204c107d36"
   },
   "outputs": [
    {
     "data": {
      "text/plain": [
       "0    10\n",
       "1    20\n",
       "2    30\n",
       "3    40\n",
       "dtype: int64"
      ]
     },
     "execution_count": 2,
     "metadata": {},
     "output_type": "execute_result"
    }
   ],
   "source": [
    "data1 = [10,20,30,40]\n",
    "pd.Series(data=data1)"
   ]
  },
  {
   "cell_type": "code",
   "execution_count": null,
   "metadata": {
    "colab": {
     "base_uri": "https://localhost:8080/"
    },
    "executionInfo": {
     "elapsed": 4,
     "status": "ok",
     "timestamp": 1633073821718,
     "user": {
      "displayName": "Ariel Bar-Itzhack",
      "photoUrl": "https://lh3.googleusercontent.com/a-/AOh14Ghjyk_Pl9_Y9tLs8Ym-Tx3xGMUpHJ52LGBHF29BFA=s64",
      "userId": "04967967438441736720"
     },
     "user_tz": -180
    },
    "id": "eMScTKfvDsCy",
    "outputId": "c864f82a-c27e-407e-f82f-27704ec86991"
   },
   "outputs": [
    {
     "data": {
      "text/plain": [
       "a    10\n",
       "b    20\n",
       "c    30\n",
       "d    40\n",
       "dtype: int64"
      ]
     },
     "execution_count": 3,
     "metadata": {},
     "output_type": "execute_result"
    }
   ],
   "source": [
    "index1 = ['a','b','c','d']\n",
    "pd.Series(data=data1, index = index1)"
   ]
  },
  {
   "cell_type": "code",
   "execution_count": null,
   "metadata": {
    "colab": {
     "base_uri": "https://localhost:8080/"
    },
    "executionInfo": {
     "elapsed": 3,
     "status": "ok",
     "timestamp": 1633073821718,
     "user": {
      "displayName": "Ariel Bar-Itzhack",
      "photoUrl": "https://lh3.googleusercontent.com/a-/AOh14Ghjyk_Pl9_Y9tLs8Ym-Tx3xGMUpHJ52LGBHF29BFA=s64",
      "userId": "04967967438441736720"
     },
     "user_tz": -180
    },
    "id": "tWfop__F1mDG",
    "outputId": "eb8da6db-b3a0-42aa-81cf-d15a61e71a23"
   },
   "outputs": [
    {
     "data": {
      "text/plain": [
       "a    10\n",
       "b    20\n",
       "c    30\n",
       "d    40\n",
       "dtype: int64"
      ]
     },
     "execution_count": 4,
     "metadata": {},
     "output_type": "execute_result"
    }
   ],
   "source": [
    "pd.Series(data1, index1)"
   ]
  },
  {
   "cell_type": "code",
   "execution_count": null,
   "metadata": {
    "colab": {
     "base_uri": "https://localhost:8080/"
    },
    "executionInfo": {
     "elapsed": 6,
     "status": "ok",
     "timestamp": 1633073822450,
     "user": {
      "displayName": "Ariel Bar-Itzhack",
      "photoUrl": "https://lh3.googleusercontent.com/a-/AOh14Ghjyk_Pl9_Y9tLs8Ym-Tx3xGMUpHJ52LGBHF29BFA=s64",
      "userId": "04967967438441736720"
     },
     "user_tz": -180
    },
    "id": "05u6Gy8jD3fC",
    "outputId": "d93b1942-fa89-4a9a-bd29-7aa9430a719c"
   },
   "outputs": [
    {
     "data": {
      "text/plain": [
       "e    5\n",
       "f    6\n",
       "g    7\n",
       "h    8\n",
       "dtype: int64"
      ]
     },
     "execution_count": 5,
     "metadata": {},
     "output_type": "execute_result"
    }
   ],
   "source": [
    "dic1 = {'e':5,'f':6,'g':7,'h':8}\n",
    "s1 = pd.Series(data=dic1)\n",
    "s1"
   ]
  },
  {
   "cell_type": "code",
   "execution_count": null,
   "metadata": {
    "colab": {
     "base_uri": "https://localhost:8080/"
    },
    "executionInfo": {
     "elapsed": 3,
     "status": "ok",
     "timestamp": 1633073822451,
     "user": {
      "displayName": "Ariel Bar-Itzhack",
      "photoUrl": "https://lh3.googleusercontent.com/a-/AOh14Ghjyk_Pl9_Y9tLs8Ym-Tx3xGMUpHJ52LGBHF29BFA=s64",
      "userId": "04967967438441736720"
     },
     "user_tz": -180
    },
    "id": "EiuKFRa5Ec9K",
    "outputId": "8478458e-8f32-4727-a480-1842a0095baf"
   },
   "outputs": [
    {
     "data": {
      "text/plain": [
       "6"
      ]
     },
     "execution_count": 6,
     "metadata": {},
     "output_type": "execute_result"
    }
   ],
   "source": [
    "s1['f']"
   ]
  },
  {
   "cell_type": "markdown",
   "metadata": {
    "id": "K5Wh1FHBEzgz"
   },
   "source": [
    "# Pandas DataFrame"
   ]
  },
  {
   "cell_type": "code",
   "execution_count": null,
   "metadata": {
    "colab": {
     "base_uri": "https://localhost:8080/"
    },
    "executionInfo": {
     "elapsed": 27,
     "status": "ok",
     "timestamp": 1622572188715,
     "user": {
      "displayName": "Ariel Bar-Itzhack",
      "photoUrl": "https://lh3.googleusercontent.com/a-/AOh14Ghjyk_Pl9_Y9tLs8Ym-Tx3xGMUpHJ52LGBHF29BFA=s64",
      "userId": "04967967438441736720"
     },
     "user_tz": -180
    },
    "id": "PWwCX9Y-E9V7",
    "outputId": "f7bc8501-cc6c-42cb-d699-9683fc21be82"
   },
   "outputs": [
    {
     "data": {
      "text/plain": [
       "array([[ 18,   8,  -6, -13],\n",
       "       [  0,  18,  -2,   2],\n",
       "       [-10, -10,   3,  15],\n",
       "       [ 19,   3, -18,   1],\n",
       "       [-19,   3,   9,  17]])"
      ]
     },
     "execution_count": 163,
     "metadata": {
      "tags": []
     },
     "output_type": "execute_result"
    }
   ],
   "source": [
    "np.random.seed(42)\n",
    "data1 = np.random.randint(-20,20,(5,4))\n",
    "data1\n"
   ]
  },
  {
   "cell_type": "code",
   "execution_count": null,
   "metadata": {
    "colab": {
     "base_uri": "https://localhost:8080/",
     "height": 198
    },
    "executionInfo": {
     "elapsed": 33,
     "status": "ok",
     "timestamp": 1622572188722,
     "user": {
      "displayName": "Ariel Bar-Itzhack",
      "photoUrl": "https://lh3.googleusercontent.com/a-/AOh14Ghjyk_Pl9_Y9tLs8Ym-Tx3xGMUpHJ52LGBHF29BFA=s64",
      "userId": "04967967438441736720"
     },
     "user_tz": -180
    },
    "id": "5xnunSTWFzAs",
    "outputId": "3317c85b-bb09-4280-aa11-e256f848506a"
   },
   "outputs": [
    {
     "data": {
      "text/html": [
       "<div>\n",
       "<style scoped>\n",
       "    .dataframe tbody tr th:only-of-type {\n",
       "        vertical-align: middle;\n",
       "    }\n",
       "\n",
       "    .dataframe tbody tr th {\n",
       "        vertical-align: top;\n",
       "    }\n",
       "\n",
       "    .dataframe thead th {\n",
       "        text-align: right;\n",
       "    }\n",
       "</style>\n",
       "<table border=\"1\" class=\"dataframe\">\n",
       "  <thead>\n",
       "    <tr style=\"text-align: right;\">\n",
       "      <th></th>\n",
       "      <th>A</th>\n",
       "      <th>B</th>\n",
       "      <th>C</th>\n",
       "      <th>D</th>\n",
       "    </tr>\n",
       "  </thead>\n",
       "  <tbody>\n",
       "    <tr>\n",
       "      <th>a</th>\n",
       "      <td>18</td>\n",
       "      <td>8</td>\n",
       "      <td>-6</td>\n",
       "      <td>-13</td>\n",
       "    </tr>\n",
       "    <tr>\n",
       "      <th>b</th>\n",
       "      <td>0</td>\n",
       "      <td>18</td>\n",
       "      <td>-2</td>\n",
       "      <td>2</td>\n",
       "    </tr>\n",
       "    <tr>\n",
       "      <th>c</th>\n",
       "      <td>-10</td>\n",
       "      <td>-10</td>\n",
       "      <td>3</td>\n",
       "      <td>15</td>\n",
       "    </tr>\n",
       "    <tr>\n",
       "      <th>d</th>\n",
       "      <td>19</td>\n",
       "      <td>3</td>\n",
       "      <td>-18</td>\n",
       "      <td>1</td>\n",
       "    </tr>\n",
       "    <tr>\n",
       "      <th>e</th>\n",
       "      <td>-19</td>\n",
       "      <td>3</td>\n",
       "      <td>9</td>\n",
       "      <td>17</td>\n",
       "    </tr>\n",
       "  </tbody>\n",
       "</table>\n",
       "</div>"
      ],
      "text/plain": [
       "    A   B   C   D\n",
       "a  18   8  -6 -13\n",
       "b   0  18  -2   2\n",
       "c -10 -10   3  15\n",
       "d  19   3 -18   1\n",
       "e -19   3   9  17"
      ]
     },
     "execution_count": 164,
     "metadata": {
      "tags": []
     },
     "output_type": "execute_result"
    }
   ],
   "source": [
    "columns1 = ['A','B','C','D']\n",
    "index1 = ['a','b','c','d','e']\n",
    "df = pd.DataFrame(data=data1, index=index1, columns=columns1)\n",
    "df"
   ]
  },
  {
   "cell_type": "markdown",
   "metadata": {
    "id": "0tbszUxIJYI1"
   },
   "source": [
    "# Selections"
   ]
  },
  {
   "cell_type": "code",
   "execution_count": null,
   "metadata": {
    "colab": {
     "base_uri": "https://localhost:8080/"
    },
    "executionInfo": {
     "elapsed": 32,
     "status": "ok",
     "timestamp": 1622572188722,
     "user": {
      "displayName": "Ariel Bar-Itzhack",
      "photoUrl": "https://lh3.googleusercontent.com/a-/AOh14Ghjyk_Pl9_Y9tLs8Ym-Tx3xGMUpHJ52LGBHF29BFA=s64",
      "userId": "04967967438441736720"
     },
     "user_tz": -180
    },
    "id": "Z_fnh7iCJHS2",
    "outputId": "bc88bfa5-dc4a-4aba-b91c-1504ab5b102f"
   },
   "outputs": [
    {
     "data": {
      "text/plain": [
       "a     8\n",
       "b    18\n",
       "c   -10\n",
       "d     3\n",
       "e     3\n",
       "Name: B, dtype: int64"
      ]
     },
     "execution_count": 165,
     "metadata": {
      "tags": []
     },
     "output_type": "execute_result"
    }
   ],
   "source": [
    "df['B']"
   ]
  },
  {
   "cell_type": "code",
   "execution_count": null,
   "metadata": {
    "colab": {
     "base_uri": "https://localhost:8080/",
     "height": 198
    },
    "executionInfo": {
     "elapsed": 30,
     "status": "ok",
     "timestamp": 1622572188723,
     "user": {
      "displayName": "Ariel Bar-Itzhack",
      "photoUrl": "https://lh3.googleusercontent.com/a-/AOh14Ghjyk_Pl9_Y9tLs8Ym-Tx3xGMUpHJ52LGBHF29BFA=s64",
      "userId": "04967967438441736720"
     },
     "user_tz": -180
    },
    "id": "llvVVXESJKud",
    "outputId": "f8336b7f-03d8-426c-a91e-168a687181e6"
   },
   "outputs": [
    {
     "data": {
      "text/html": [
       "<div>\n",
       "<style scoped>\n",
       "    .dataframe tbody tr th:only-of-type {\n",
       "        vertical-align: middle;\n",
       "    }\n",
       "\n",
       "    .dataframe tbody tr th {\n",
       "        vertical-align: top;\n",
       "    }\n",
       "\n",
       "    .dataframe thead th {\n",
       "        text-align: right;\n",
       "    }\n",
       "</style>\n",
       "<table border=\"1\" class=\"dataframe\">\n",
       "  <thead>\n",
       "    <tr style=\"text-align: right;\">\n",
       "      <th></th>\n",
       "      <th>B</th>\n",
       "      <th>D</th>\n",
       "    </tr>\n",
       "  </thead>\n",
       "  <tbody>\n",
       "    <tr>\n",
       "      <th>a</th>\n",
       "      <td>8</td>\n",
       "      <td>-13</td>\n",
       "    </tr>\n",
       "    <tr>\n",
       "      <th>b</th>\n",
       "      <td>18</td>\n",
       "      <td>2</td>\n",
       "    </tr>\n",
       "    <tr>\n",
       "      <th>c</th>\n",
       "      <td>-10</td>\n",
       "      <td>15</td>\n",
       "    </tr>\n",
       "    <tr>\n",
       "      <th>d</th>\n",
       "      <td>3</td>\n",
       "      <td>1</td>\n",
       "    </tr>\n",
       "    <tr>\n",
       "      <th>e</th>\n",
       "      <td>3</td>\n",
       "      <td>17</td>\n",
       "    </tr>\n",
       "  </tbody>\n",
       "</table>\n",
       "</div>"
      ],
      "text/plain": [
       "    B   D\n",
       "a   8 -13\n",
       "b  18   2\n",
       "c -10  15\n",
       "d   3   1\n",
       "e   3  17"
      ]
     },
     "execution_count": 166,
     "metadata": {
      "tags": []
     },
     "output_type": "execute_result"
    }
   ],
   "source": [
    "df[['B','D']]"
   ]
  },
  {
   "cell_type": "code",
   "execution_count": null,
   "metadata": {
    "colab": {
     "base_uri": "https://localhost:8080/"
    },
    "executionInfo": {
     "elapsed": 27,
     "status": "ok",
     "timestamp": 1622572188723,
     "user": {
      "displayName": "Ariel Bar-Itzhack",
      "photoUrl": "https://lh3.googleusercontent.com/a-/AOh14Ghjyk_Pl9_Y9tLs8Ym-Tx3xGMUpHJ52LGBHF29BFA=s64",
      "userId": "04967967438441736720"
     },
     "user_tz": -180
    },
    "id": "zzsfLO0EJQF0",
    "outputId": "06efb8b0-7698-4d19-af59-01b3d241ef2b"
   },
   "outputs": [
    {
     "data": {
      "text/plain": [
       "A    18\n",
       "B     8\n",
       "C    -6\n",
       "D   -13\n",
       "Name: a, dtype: int64"
      ]
     },
     "execution_count": 167,
     "metadata": {
      "tags": []
     },
     "output_type": "execute_result"
    }
   ],
   "source": [
    "df.loc['a']"
   ]
  },
  {
   "cell_type": "code",
   "execution_count": null,
   "metadata": {
    "colab": {
     "base_uri": "https://localhost:8080/",
     "height": 138
    },
    "executionInfo": {
     "elapsed": 26,
     "status": "ok",
     "timestamp": 1622572188724,
     "user": {
      "displayName": "Ariel Bar-Itzhack",
      "photoUrl": "https://lh3.googleusercontent.com/a-/AOh14Ghjyk_Pl9_Y9tLs8Ym-Tx3xGMUpHJ52LGBHF29BFA=s64",
      "userId": "04967967438441736720"
     },
     "user_tz": -180
    },
    "id": "OZWaNaWFJqm8",
    "outputId": "78622c49-d452-4452-aba0-ac35306fb980"
   },
   "outputs": [
    {
     "data": {
      "text/html": [
       "<div>\n",
       "<style scoped>\n",
       "    .dataframe tbody tr th:only-of-type {\n",
       "        vertical-align: middle;\n",
       "    }\n",
       "\n",
       "    .dataframe tbody tr th {\n",
       "        vertical-align: top;\n",
       "    }\n",
       "\n",
       "    .dataframe thead th {\n",
       "        text-align: right;\n",
       "    }\n",
       "</style>\n",
       "<table border=\"1\" class=\"dataframe\">\n",
       "  <thead>\n",
       "    <tr style=\"text-align: right;\">\n",
       "      <th></th>\n",
       "      <th>A</th>\n",
       "      <th>B</th>\n",
       "      <th>C</th>\n",
       "      <th>D</th>\n",
       "    </tr>\n",
       "  </thead>\n",
       "  <tbody>\n",
       "    <tr>\n",
       "      <th>a</th>\n",
       "      <td>18</td>\n",
       "      <td>8</td>\n",
       "      <td>-6</td>\n",
       "      <td>-13</td>\n",
       "    </tr>\n",
       "    <tr>\n",
       "      <th>c</th>\n",
       "      <td>-10</td>\n",
       "      <td>-10</td>\n",
       "      <td>3</td>\n",
       "      <td>15</td>\n",
       "    </tr>\n",
       "    <tr>\n",
       "      <th>e</th>\n",
       "      <td>-19</td>\n",
       "      <td>3</td>\n",
       "      <td>9</td>\n",
       "      <td>17</td>\n",
       "    </tr>\n",
       "  </tbody>\n",
       "</table>\n",
       "</div>"
      ],
      "text/plain": [
       "    A   B  C   D\n",
       "a  18   8 -6 -13\n",
       "c -10 -10  3  15\n",
       "e -19   3  9  17"
      ]
     },
     "execution_count": 168,
     "metadata": {
      "tags": []
     },
     "output_type": "execute_result"
    }
   ],
   "source": [
    "df.loc[['a','c','e']]"
   ]
  },
  {
   "cell_type": "code",
   "execution_count": null,
   "metadata": {
    "colab": {
     "base_uri": "https://localhost:8080/",
     "height": 138
    },
    "executionInfo": {
     "elapsed": 25,
     "status": "ok",
     "timestamp": 1622572188724,
     "user": {
      "displayName": "Ariel Bar-Itzhack",
      "photoUrl": "https://lh3.googleusercontent.com/a-/AOh14Ghjyk_Pl9_Y9tLs8Ym-Tx3xGMUpHJ52LGBHF29BFA=s64",
      "userId": "04967967438441736720"
     },
     "user_tz": -180
    },
    "id": "RlcRRgjQPIMu",
    "outputId": "43a5a0ec-8d35-4e21-e99f-294a61fb4476"
   },
   "outputs": [
    {
     "data": {
      "text/html": [
       "<div>\n",
       "<style scoped>\n",
       "    .dataframe tbody tr th:only-of-type {\n",
       "        vertical-align: middle;\n",
       "    }\n",
       "\n",
       "    .dataframe tbody tr th {\n",
       "        vertical-align: top;\n",
       "    }\n",
       "\n",
       "    .dataframe thead th {\n",
       "        text-align: right;\n",
       "    }\n",
       "</style>\n",
       "<table border=\"1\" class=\"dataframe\">\n",
       "  <thead>\n",
       "    <tr style=\"text-align: right;\">\n",
       "      <th></th>\n",
       "      <th>B</th>\n",
       "      <th>C</th>\n",
       "    </tr>\n",
       "  </thead>\n",
       "  <tbody>\n",
       "    <tr>\n",
       "      <th>a</th>\n",
       "      <td>8</td>\n",
       "      <td>-6</td>\n",
       "    </tr>\n",
       "    <tr>\n",
       "      <th>c</th>\n",
       "      <td>-10</td>\n",
       "      <td>3</td>\n",
       "    </tr>\n",
       "    <tr>\n",
       "      <th>e</th>\n",
       "      <td>3</td>\n",
       "      <td>9</td>\n",
       "    </tr>\n",
       "  </tbody>\n",
       "</table>\n",
       "</div>"
      ],
      "text/plain": [
       "    B  C\n",
       "a   8 -6\n",
       "c -10  3\n",
       "e   3  9"
      ]
     },
     "execution_count": 169,
     "metadata": {
      "tags": []
     },
     "output_type": "execute_result"
    }
   ],
   "source": [
    "df.loc[['a','c','e'],['B','C']]"
   ]
  },
  {
   "cell_type": "code",
   "execution_count": null,
   "metadata": {
    "colab": {
     "base_uri": "https://localhost:8080/",
     "height": 138
    },
    "executionInfo": {
     "elapsed": 25,
     "status": "ok",
     "timestamp": 1622572188725,
     "user": {
      "displayName": "Ariel Bar-Itzhack",
      "photoUrl": "https://lh3.googleusercontent.com/a-/AOh14Ghjyk_Pl9_Y9tLs8Ym-Tx3xGMUpHJ52LGBHF29BFA=s64",
      "userId": "04967967438441736720"
     },
     "user_tz": -180
    },
    "id": "pbUqtwsUPUAe",
    "outputId": "58eae9cb-906b-44fa-b1ab-df4cf9f7e7a3"
   },
   "outputs": [
    {
     "data": {
      "text/html": [
       "<div>\n",
       "<style scoped>\n",
       "    .dataframe tbody tr th:only-of-type {\n",
       "        vertical-align: middle;\n",
       "    }\n",
       "\n",
       "    .dataframe tbody tr th {\n",
       "        vertical-align: top;\n",
       "    }\n",
       "\n",
       "    .dataframe thead th {\n",
       "        text-align: right;\n",
       "    }\n",
       "</style>\n",
       "<table border=\"1\" class=\"dataframe\">\n",
       "  <thead>\n",
       "    <tr style=\"text-align: right;\">\n",
       "      <th></th>\n",
       "      <th>B</th>\n",
       "      <th>C</th>\n",
       "      <th>D</th>\n",
       "    </tr>\n",
       "  </thead>\n",
       "  <tbody>\n",
       "    <tr>\n",
       "      <th>b</th>\n",
       "      <td>18</td>\n",
       "      <td>-2</td>\n",
       "      <td>2</td>\n",
       "    </tr>\n",
       "    <tr>\n",
       "      <th>c</th>\n",
       "      <td>-10</td>\n",
       "      <td>3</td>\n",
       "      <td>15</td>\n",
       "    </tr>\n",
       "    <tr>\n",
       "      <th>d</th>\n",
       "      <td>3</td>\n",
       "      <td>-18</td>\n",
       "      <td>1</td>\n",
       "    </tr>\n",
       "  </tbody>\n",
       "</table>\n",
       "</div>"
      ],
      "text/plain": [
       "    B   C   D\n",
       "b  18  -2   2\n",
       "c -10   3  15\n",
       "d   3 -18   1"
      ]
     },
     "execution_count": 170,
     "metadata": {
      "tags": []
     },
     "output_type": "execute_result"
    }
   ],
   "source": [
    "df.loc['b':'d','B':'D']"
   ]
  },
  {
   "cell_type": "code",
   "execution_count": null,
   "metadata": {
    "colab": {
     "base_uri": "https://localhost:8080/",
     "height": 198
    },
    "executionInfo": {
     "elapsed": 26,
     "status": "ok",
     "timestamp": 1622572188727,
     "user": {
      "displayName": "Ariel Bar-Itzhack",
      "photoUrl": "https://lh3.googleusercontent.com/a-/AOh14Ghjyk_Pl9_Y9tLs8Ym-Tx3xGMUpHJ52LGBHF29BFA=s64",
      "userId": "04967967438441736720"
     },
     "user_tz": -180
    },
    "id": "NBT9IrDyREhO",
    "outputId": "d5e978a3-d1d6-4ddd-cbfa-82557746601b"
   },
   "outputs": [
    {
     "data": {
      "text/html": [
       "<div>\n",
       "<style scoped>\n",
       "    .dataframe tbody tr th:only-of-type {\n",
       "        vertical-align: middle;\n",
       "    }\n",
       "\n",
       "    .dataframe tbody tr th {\n",
       "        vertical-align: top;\n",
       "    }\n",
       "\n",
       "    .dataframe thead th {\n",
       "        text-align: right;\n",
       "    }\n",
       "</style>\n",
       "<table border=\"1\" class=\"dataframe\">\n",
       "  <thead>\n",
       "    <tr style=\"text-align: right;\">\n",
       "      <th></th>\n",
       "      <th>A</th>\n",
       "      <th>B</th>\n",
       "      <th>C</th>\n",
       "      <th>D</th>\n",
       "    </tr>\n",
       "  </thead>\n",
       "  <tbody>\n",
       "    <tr>\n",
       "      <th>a</th>\n",
       "      <td>18</td>\n",
       "      <td>8</td>\n",
       "      <td>-6</td>\n",
       "      <td>-13</td>\n",
       "    </tr>\n",
       "    <tr>\n",
       "      <th>b</th>\n",
       "      <td>0</td>\n",
       "      <td>18</td>\n",
       "      <td>-2</td>\n",
       "      <td>2</td>\n",
       "    </tr>\n",
       "    <tr>\n",
       "      <th>c</th>\n",
       "      <td>-10</td>\n",
       "      <td>-10</td>\n",
       "      <td>3</td>\n",
       "      <td>15</td>\n",
       "    </tr>\n",
       "    <tr>\n",
       "      <th>d</th>\n",
       "      <td>19</td>\n",
       "      <td>3</td>\n",
       "      <td>-18</td>\n",
       "      <td>1</td>\n",
       "    </tr>\n",
       "    <tr>\n",
       "      <th>e</th>\n",
       "      <td>-19</td>\n",
       "      <td>3</td>\n",
       "      <td>9</td>\n",
       "      <td>17</td>\n",
       "    </tr>\n",
       "  </tbody>\n",
       "</table>\n",
       "</div>"
      ],
      "text/plain": [
       "    A   B   C   D\n",
       "a  18   8  -6 -13\n",
       "b   0  18  -2   2\n",
       "c -10 -10   3  15\n",
       "d  19   3 -18   1\n",
       "e -19   3   9  17"
      ]
     },
     "execution_count": 171,
     "metadata": {
      "tags": []
     },
     "output_type": "execute_result"
    }
   ],
   "source": [
    "df"
   ]
  },
  {
   "cell_type": "code",
   "execution_count": null,
   "metadata": {
    "colab": {
     "base_uri": "https://localhost:8080/",
     "height": 138
    },
    "executionInfo": {
     "elapsed": 26,
     "status": "ok",
     "timestamp": 1622572188727,
     "user": {
      "displayName": "Ariel Bar-Itzhack",
      "photoUrl": "https://lh3.googleusercontent.com/a-/AOh14Ghjyk_Pl9_Y9tLs8Ym-Tx3xGMUpHJ52LGBHF29BFA=s64",
      "userId": "04967967438441736720"
     },
     "user_tz": -180
    },
    "id": "JSg06c7LRHbl",
    "outputId": "7eb3ab99-6bdd-4fa2-c327-45b76f0f2a63"
   },
   "outputs": [
    {
     "data": {
      "text/html": [
       "<div>\n",
       "<style scoped>\n",
       "    .dataframe tbody tr th:only-of-type {\n",
       "        vertical-align: middle;\n",
       "    }\n",
       "\n",
       "    .dataframe tbody tr th {\n",
       "        vertical-align: top;\n",
       "    }\n",
       "\n",
       "    .dataframe thead th {\n",
       "        text-align: right;\n",
       "    }\n",
       "</style>\n",
       "<table border=\"1\" class=\"dataframe\">\n",
       "  <thead>\n",
       "    <tr style=\"text-align: right;\">\n",
       "      <th></th>\n",
       "      <th>A</th>\n",
       "      <th>B</th>\n",
       "      <th>C</th>\n",
       "      <th>D</th>\n",
       "    </tr>\n",
       "  </thead>\n",
       "  <tbody>\n",
       "    <tr>\n",
       "      <th>b</th>\n",
       "      <td>0</td>\n",
       "      <td>18</td>\n",
       "      <td>-2</td>\n",
       "      <td>2</td>\n",
       "    </tr>\n",
       "    <tr>\n",
       "      <th>d</th>\n",
       "      <td>19</td>\n",
       "      <td>3</td>\n",
       "      <td>-18</td>\n",
       "      <td>1</td>\n",
       "    </tr>\n",
       "    <tr>\n",
       "      <th>e</th>\n",
       "      <td>-19</td>\n",
       "      <td>3</td>\n",
       "      <td>9</td>\n",
       "      <td>17</td>\n",
       "    </tr>\n",
       "  </tbody>\n",
       "</table>\n",
       "</div>"
      ],
      "text/plain": [
       "    A   B   C   D\n",
       "b   0  18  -2   2\n",
       "d  19   3 -18   1\n",
       "e -19   3   9  17"
      ]
     },
     "execution_count": 172,
     "metadata": {
      "tags": []
     },
     "output_type": "execute_result"
    }
   ],
   "source": [
    "df.iloc[[1,3,4]]"
   ]
  },
  {
   "cell_type": "code",
   "execution_count": null,
   "metadata": {
    "colab": {
     "base_uri": "https://localhost:8080/",
     "height": 108
    },
    "executionInfo": {
     "elapsed": 26,
     "status": "ok",
     "timestamp": 1622572188728,
     "user": {
      "displayName": "Ariel Bar-Itzhack",
      "photoUrl": "https://lh3.googleusercontent.com/a-/AOh14Ghjyk_Pl9_Y9tLs8Ym-Tx3xGMUpHJ52LGBHF29BFA=s64",
      "userId": "04967967438441736720"
     },
     "user_tz": -180
    },
    "id": "ZtKOl_brPkRG",
    "outputId": "004ab7c4-3e75-4bfc-e07c-64a1574f8042"
   },
   "outputs": [
    {
     "data": {
      "text/html": [
       "<div>\n",
       "<style scoped>\n",
       "    .dataframe tbody tr th:only-of-type {\n",
       "        vertical-align: middle;\n",
       "    }\n",
       "\n",
       "    .dataframe tbody tr th {\n",
       "        vertical-align: top;\n",
       "    }\n",
       "\n",
       "    .dataframe thead th {\n",
       "        text-align: right;\n",
       "    }\n",
       "</style>\n",
       "<table border=\"1\" class=\"dataframe\">\n",
       "  <thead>\n",
       "    <tr style=\"text-align: right;\">\n",
       "      <th></th>\n",
       "      <th>A</th>\n",
       "      <th>B</th>\n",
       "      <th>C</th>\n",
       "      <th>D</th>\n",
       "    </tr>\n",
       "  </thead>\n",
       "  <tbody>\n",
       "    <tr>\n",
       "      <th>b</th>\n",
       "      <td>0</td>\n",
       "      <td>18</td>\n",
       "      <td>-2</td>\n",
       "      <td>2</td>\n",
       "    </tr>\n",
       "    <tr>\n",
       "      <th>c</th>\n",
       "      <td>-10</td>\n",
       "      <td>-10</td>\n",
       "      <td>3</td>\n",
       "      <td>15</td>\n",
       "    </tr>\n",
       "  </tbody>\n",
       "</table>\n",
       "</div>"
      ],
      "text/plain": [
       "    A   B  C   D\n",
       "b   0  18 -2   2\n",
       "c -10 -10  3  15"
      ]
     },
     "execution_count": 173,
     "metadata": {
      "tags": []
     },
     "output_type": "execute_result"
    }
   ],
   "source": [
    "df.iloc[1:3]"
   ]
  },
  {
   "cell_type": "code",
   "execution_count": null,
   "metadata": {
    "colab": {
     "base_uri": "https://localhost:8080/",
     "height": 108
    },
    "executionInfo": {
     "elapsed": 26,
     "status": "ok",
     "timestamp": 1622572188729,
     "user": {
      "displayName": "Ariel Bar-Itzhack",
      "photoUrl": "https://lh3.googleusercontent.com/a-/AOh14Ghjyk_Pl9_Y9tLs8Ym-Tx3xGMUpHJ52LGBHF29BFA=s64",
      "userId": "04967967438441736720"
     },
     "user_tz": -180
    },
    "id": "WPP2qhLtRLc2",
    "outputId": "fa350029-cfdd-49fe-af27-961fae6b7ec1"
   },
   "outputs": [
    {
     "data": {
      "text/html": [
       "<div>\n",
       "<style scoped>\n",
       "    .dataframe tbody tr th:only-of-type {\n",
       "        vertical-align: middle;\n",
       "    }\n",
       "\n",
       "    .dataframe tbody tr th {\n",
       "        vertical-align: top;\n",
       "    }\n",
       "\n",
       "    .dataframe thead th {\n",
       "        text-align: right;\n",
       "    }\n",
       "</style>\n",
       "<table border=\"1\" class=\"dataframe\">\n",
       "  <thead>\n",
       "    <tr style=\"text-align: right;\">\n",
       "      <th></th>\n",
       "      <th>C</th>\n",
       "      <th>D</th>\n",
       "    </tr>\n",
       "  </thead>\n",
       "  <tbody>\n",
       "    <tr>\n",
       "      <th>b</th>\n",
       "      <td>-2</td>\n",
       "      <td>2</td>\n",
       "    </tr>\n",
       "    <tr>\n",
       "      <th>c</th>\n",
       "      <td>3</td>\n",
       "      <td>15</td>\n",
       "    </tr>\n",
       "  </tbody>\n",
       "</table>\n",
       "</div>"
      ],
      "text/plain": [
       "   C   D\n",
       "b -2   2\n",
       "c  3  15"
      ]
     },
     "execution_count": 174,
     "metadata": {
      "tags": []
     },
     "output_type": "execute_result"
    }
   ],
   "source": [
    "df.iloc[1:3,2:]"
   ]
  },
  {
   "cell_type": "code",
   "execution_count": null,
   "metadata": {
    "id": "_HU2X2rGRcgO"
   },
   "outputs": [],
   "source": [
    "# Adding and removing columns and/or rows"
   ]
  },
  {
   "cell_type": "code",
   "execution_count": null,
   "metadata": {
    "colab": {
     "base_uri": "https://localhost:8080/",
     "height": 198
    },
    "executionInfo": {
     "elapsed": 25,
     "status": "ok",
     "timestamp": 1622572188729,
     "user": {
      "displayName": "Ariel Bar-Itzhack",
      "photoUrl": "https://lh3.googleusercontent.com/a-/AOh14Ghjyk_Pl9_Y9tLs8Ym-Tx3xGMUpHJ52LGBHF29BFA=s64",
      "userId": "04967967438441736720"
     },
     "user_tz": -180
    },
    "id": "--NBb5ZNRms_",
    "outputId": "2036ca6e-d2ad-4da9-c371-84b320f522f7"
   },
   "outputs": [
    {
     "data": {
      "text/html": [
       "<div>\n",
       "<style scoped>\n",
       "    .dataframe tbody tr th:only-of-type {\n",
       "        vertical-align: middle;\n",
       "    }\n",
       "\n",
       "    .dataframe tbody tr th {\n",
       "        vertical-align: top;\n",
       "    }\n",
       "\n",
       "    .dataframe thead th {\n",
       "        text-align: right;\n",
       "    }\n",
       "</style>\n",
       "<table border=\"1\" class=\"dataframe\">\n",
       "  <thead>\n",
       "    <tr style=\"text-align: right;\">\n",
       "      <th></th>\n",
       "      <th>A</th>\n",
       "      <th>B</th>\n",
       "      <th>C</th>\n",
       "      <th>D</th>\n",
       "      <th>E</th>\n",
       "    </tr>\n",
       "  </thead>\n",
       "  <tbody>\n",
       "    <tr>\n",
       "      <th>a</th>\n",
       "      <td>18</td>\n",
       "      <td>8</td>\n",
       "      <td>-6</td>\n",
       "      <td>-13</td>\n",
       "      <td>27</td>\n",
       "    </tr>\n",
       "    <tr>\n",
       "      <th>b</th>\n",
       "      <td>0</td>\n",
       "      <td>18</td>\n",
       "      <td>-2</td>\n",
       "      <td>2</td>\n",
       "      <td>19</td>\n",
       "    </tr>\n",
       "    <tr>\n",
       "      <th>c</th>\n",
       "      <td>-10</td>\n",
       "      <td>-10</td>\n",
       "      <td>3</td>\n",
       "      <td>15</td>\n",
       "      <td>-19</td>\n",
       "    </tr>\n",
       "    <tr>\n",
       "      <th>d</th>\n",
       "      <td>19</td>\n",
       "      <td>3</td>\n",
       "      <td>-18</td>\n",
       "      <td>1</td>\n",
       "      <td>23</td>\n",
       "    </tr>\n",
       "    <tr>\n",
       "      <th>e</th>\n",
       "      <td>-19</td>\n",
       "      <td>3</td>\n",
       "      <td>9</td>\n",
       "      <td>17</td>\n",
       "      <td>-15</td>\n",
       "    </tr>\n",
       "  </tbody>\n",
       "</table>\n",
       "</div>"
      ],
      "text/plain": [
       "    A   B   C   D   E\n",
       "a  18   8  -6 -13  27\n",
       "b   0  18  -2   2  19\n",
       "c -10 -10   3  15 -19\n",
       "d  19   3 -18   1  23\n",
       "e -19   3   9  17 -15"
      ]
     },
     "execution_count": 175,
     "metadata": {
      "tags": []
     },
     "output_type": "execute_result"
    }
   ],
   "source": [
    "df['E']=df['A']+df['B']+1\n",
    "df"
   ]
  },
  {
   "cell_type": "code",
   "execution_count": null,
   "metadata": {
    "colab": {
     "base_uri": "https://localhost:8080/",
     "height": 198
    },
    "executionInfo": {
     "elapsed": 11,
     "status": "ok",
     "timestamp": 1622572189382,
     "user": {
      "displayName": "Ariel Bar-Itzhack",
      "photoUrl": "https://lh3.googleusercontent.com/a-/AOh14Ghjyk_Pl9_Y9tLs8Ym-Tx3xGMUpHJ52LGBHF29BFA=s64",
      "userId": "04967967438441736720"
     },
     "user_tz": -180
    },
    "id": "vSKaMUCfR60u",
    "outputId": "bd68c845-7f43-4076-f6be-418c8aadf577"
   },
   "outputs": [
    {
     "data": {
      "text/html": [
       "<div>\n",
       "<style scoped>\n",
       "    .dataframe tbody tr th:only-of-type {\n",
       "        vertical-align: middle;\n",
       "    }\n",
       "\n",
       "    .dataframe tbody tr th {\n",
       "        vertical-align: top;\n",
       "    }\n",
       "\n",
       "    .dataframe thead th {\n",
       "        text-align: right;\n",
       "    }\n",
       "</style>\n",
       "<table border=\"1\" class=\"dataframe\">\n",
       "  <thead>\n",
       "    <tr style=\"text-align: right;\">\n",
       "      <th></th>\n",
       "      <th>A</th>\n",
       "      <th>B</th>\n",
       "      <th>C</th>\n",
       "      <th>D</th>\n",
       "    </tr>\n",
       "  </thead>\n",
       "  <tbody>\n",
       "    <tr>\n",
       "      <th>a</th>\n",
       "      <td>18</td>\n",
       "      <td>8</td>\n",
       "      <td>-6</td>\n",
       "      <td>-13</td>\n",
       "    </tr>\n",
       "    <tr>\n",
       "      <th>b</th>\n",
       "      <td>0</td>\n",
       "      <td>18</td>\n",
       "      <td>-2</td>\n",
       "      <td>2</td>\n",
       "    </tr>\n",
       "    <tr>\n",
       "      <th>c</th>\n",
       "      <td>-10</td>\n",
       "      <td>-10</td>\n",
       "      <td>3</td>\n",
       "      <td>15</td>\n",
       "    </tr>\n",
       "    <tr>\n",
       "      <th>d</th>\n",
       "      <td>19</td>\n",
       "      <td>3</td>\n",
       "      <td>-18</td>\n",
       "      <td>1</td>\n",
       "    </tr>\n",
       "    <tr>\n",
       "      <th>e</th>\n",
       "      <td>-19</td>\n",
       "      <td>3</td>\n",
       "      <td>9</td>\n",
       "      <td>17</td>\n",
       "    </tr>\n",
       "  </tbody>\n",
       "</table>\n",
       "</div>"
      ],
      "text/plain": [
       "    A   B   C   D\n",
       "a  18   8  -6 -13\n",
       "b   0  18  -2   2\n",
       "c -10 -10   3  15\n",
       "d  19   3 -18   1\n",
       "e -19   3   9  17"
      ]
     },
     "execution_count": 176,
     "metadata": {
      "tags": []
     },
     "output_type": "execute_result"
    }
   ],
   "source": [
    "df.drop('E',axis=1)"
   ]
  },
  {
   "cell_type": "code",
   "execution_count": null,
   "metadata": {
    "colab": {
     "base_uri": "https://localhost:8080/",
     "height": 198
    },
    "executionInfo": {
     "elapsed": 11,
     "status": "ok",
     "timestamp": 1622572189383,
     "user": {
      "displayName": "Ariel Bar-Itzhack",
      "photoUrl": "https://lh3.googleusercontent.com/a-/AOh14Ghjyk_Pl9_Y9tLs8Ym-Tx3xGMUpHJ52LGBHF29BFA=s64",
      "userId": "04967967438441736720"
     },
     "user_tz": -180
    },
    "id": "mfKF1thSSEZu",
    "outputId": "2ee9db70-27b0-42c1-dc30-42a38d638e33"
   },
   "outputs": [
    {
     "data": {
      "text/html": [
       "<div>\n",
       "<style scoped>\n",
       "    .dataframe tbody tr th:only-of-type {\n",
       "        vertical-align: middle;\n",
       "    }\n",
       "\n",
       "    .dataframe tbody tr th {\n",
       "        vertical-align: top;\n",
       "    }\n",
       "\n",
       "    .dataframe thead th {\n",
       "        text-align: right;\n",
       "    }\n",
       "</style>\n",
       "<table border=\"1\" class=\"dataframe\">\n",
       "  <thead>\n",
       "    <tr style=\"text-align: right;\">\n",
       "      <th></th>\n",
       "      <th>A</th>\n",
       "      <th>B</th>\n",
       "      <th>C</th>\n",
       "      <th>D</th>\n",
       "      <th>E</th>\n",
       "    </tr>\n",
       "  </thead>\n",
       "  <tbody>\n",
       "    <tr>\n",
       "      <th>a</th>\n",
       "      <td>18</td>\n",
       "      <td>8</td>\n",
       "      <td>-6</td>\n",
       "      <td>-13</td>\n",
       "      <td>27</td>\n",
       "    </tr>\n",
       "    <tr>\n",
       "      <th>b</th>\n",
       "      <td>0</td>\n",
       "      <td>18</td>\n",
       "      <td>-2</td>\n",
       "      <td>2</td>\n",
       "      <td>19</td>\n",
       "    </tr>\n",
       "    <tr>\n",
       "      <th>c</th>\n",
       "      <td>-10</td>\n",
       "      <td>-10</td>\n",
       "      <td>3</td>\n",
       "      <td>15</td>\n",
       "      <td>-19</td>\n",
       "    </tr>\n",
       "    <tr>\n",
       "      <th>d</th>\n",
       "      <td>19</td>\n",
       "      <td>3</td>\n",
       "      <td>-18</td>\n",
       "      <td>1</td>\n",
       "      <td>23</td>\n",
       "    </tr>\n",
       "    <tr>\n",
       "      <th>e</th>\n",
       "      <td>-19</td>\n",
       "      <td>3</td>\n",
       "      <td>9</td>\n",
       "      <td>17</td>\n",
       "      <td>-15</td>\n",
       "    </tr>\n",
       "  </tbody>\n",
       "</table>\n",
       "</div>"
      ],
      "text/plain": [
       "    A   B   C   D   E\n",
       "a  18   8  -6 -13  27\n",
       "b   0  18  -2   2  19\n",
       "c -10 -10   3  15 -19\n",
       "d  19   3 -18   1  23\n",
       "e -19   3   9  17 -15"
      ]
     },
     "execution_count": 177,
     "metadata": {
      "tags": []
     },
     "output_type": "execute_result"
    }
   ],
   "source": [
    "df"
   ]
  },
  {
   "cell_type": "code",
   "execution_count": null,
   "metadata": {
    "colab": {
     "base_uri": "https://localhost:8080/",
     "height": 198
    },
    "executionInfo": {
     "elapsed": 10,
     "status": "ok",
     "timestamp": 1622572189383,
     "user": {
      "displayName": "Ariel Bar-Itzhack",
      "photoUrl": "https://lh3.googleusercontent.com/a-/AOh14Ghjyk_Pl9_Y9tLs8Ym-Tx3xGMUpHJ52LGBHF29BFA=s64",
      "userId": "04967967438441736720"
     },
     "user_tz": -180
    },
    "id": "bFzDUsW9SGBu",
    "outputId": "07d72ffa-6aa6-4843-f8f4-fbaa46820018"
   },
   "outputs": [
    {
     "data": {
      "text/html": [
       "<div>\n",
       "<style scoped>\n",
       "    .dataframe tbody tr th:only-of-type {\n",
       "        vertical-align: middle;\n",
       "    }\n",
       "\n",
       "    .dataframe tbody tr th {\n",
       "        vertical-align: top;\n",
       "    }\n",
       "\n",
       "    .dataframe thead th {\n",
       "        text-align: right;\n",
       "    }\n",
       "</style>\n",
       "<table border=\"1\" class=\"dataframe\">\n",
       "  <thead>\n",
       "    <tr style=\"text-align: right;\">\n",
       "      <th></th>\n",
       "      <th>A</th>\n",
       "      <th>B</th>\n",
       "      <th>C</th>\n",
       "      <th>D</th>\n",
       "    </tr>\n",
       "  </thead>\n",
       "  <tbody>\n",
       "    <tr>\n",
       "      <th>a</th>\n",
       "      <td>18</td>\n",
       "      <td>8</td>\n",
       "      <td>-6</td>\n",
       "      <td>-13</td>\n",
       "    </tr>\n",
       "    <tr>\n",
       "      <th>b</th>\n",
       "      <td>0</td>\n",
       "      <td>18</td>\n",
       "      <td>-2</td>\n",
       "      <td>2</td>\n",
       "    </tr>\n",
       "    <tr>\n",
       "      <th>c</th>\n",
       "      <td>-10</td>\n",
       "      <td>-10</td>\n",
       "      <td>3</td>\n",
       "      <td>15</td>\n",
       "    </tr>\n",
       "    <tr>\n",
       "      <th>d</th>\n",
       "      <td>19</td>\n",
       "      <td>3</td>\n",
       "      <td>-18</td>\n",
       "      <td>1</td>\n",
       "    </tr>\n",
       "    <tr>\n",
       "      <th>e</th>\n",
       "      <td>-19</td>\n",
       "      <td>3</td>\n",
       "      <td>9</td>\n",
       "      <td>17</td>\n",
       "    </tr>\n",
       "  </tbody>\n",
       "</table>\n",
       "</div>"
      ],
      "text/plain": [
       "    A   B   C   D\n",
       "a  18   8  -6 -13\n",
       "b   0  18  -2   2\n",
       "c -10 -10   3  15\n",
       "d  19   3 -18   1\n",
       "e -19   3   9  17"
      ]
     },
     "execution_count": 178,
     "metadata": {
      "tags": []
     },
     "output_type": "execute_result"
    }
   ],
   "source": [
    "df = df.drop('E',axis=1)\n",
    "df"
   ]
  },
  {
   "cell_type": "code",
   "execution_count": null,
   "metadata": {
    "colab": {
     "base_uri": "https://localhost:8080/",
     "height": 138
    },
    "executionInfo": {
     "elapsed": 9,
     "status": "ok",
     "timestamp": 1622572189383,
     "user": {
      "displayName": "Ariel Bar-Itzhack",
      "photoUrl": "https://lh3.googleusercontent.com/a-/AOh14Ghjyk_Pl9_Y9tLs8Ym-Tx3xGMUpHJ52LGBHF29BFA=s64",
      "userId": "04967967438441736720"
     },
     "user_tz": -180
    },
    "id": "pa4mEUnUSJtm",
    "outputId": "a45f8320-156f-4b54-aeac-06afdfbf810f"
   },
   "outputs": [
    {
     "data": {
      "text/html": [
       "<div>\n",
       "<style scoped>\n",
       "    .dataframe tbody tr th:only-of-type {\n",
       "        vertical-align: middle;\n",
       "    }\n",
       "\n",
       "    .dataframe tbody tr th {\n",
       "        vertical-align: top;\n",
       "    }\n",
       "\n",
       "    .dataframe thead th {\n",
       "        text-align: right;\n",
       "    }\n",
       "</style>\n",
       "<table border=\"1\" class=\"dataframe\">\n",
       "  <thead>\n",
       "    <tr style=\"text-align: right;\">\n",
       "      <th></th>\n",
       "      <th>A</th>\n",
       "      <th>B</th>\n",
       "      <th>C</th>\n",
       "      <th>D</th>\n",
       "    </tr>\n",
       "  </thead>\n",
       "  <tbody>\n",
       "    <tr>\n",
       "      <th>b</th>\n",
       "      <td>0</td>\n",
       "      <td>18</td>\n",
       "      <td>-2</td>\n",
       "      <td>2</td>\n",
       "    </tr>\n",
       "    <tr>\n",
       "      <th>d</th>\n",
       "      <td>19</td>\n",
       "      <td>3</td>\n",
       "      <td>-18</td>\n",
       "      <td>1</td>\n",
       "    </tr>\n",
       "    <tr>\n",
       "      <th>e</th>\n",
       "      <td>-19</td>\n",
       "      <td>3</td>\n",
       "      <td>9</td>\n",
       "      <td>17</td>\n",
       "    </tr>\n",
       "  </tbody>\n",
       "</table>\n",
       "</div>"
      ],
      "text/plain": [
       "    A   B   C   D\n",
       "b   0  18  -2   2\n",
       "d  19   3 -18   1\n",
       "e -19   3   9  17"
      ]
     },
     "execution_count": 179,
     "metadata": {
      "tags": []
     },
     "output_type": "execute_result"
    }
   ],
   "source": [
    "df.drop(['a','c'], axis=0)"
   ]
  }
 ],
 "metadata": {
  "colab": {
   "collapsed_sections": [],
   "name": "Copy of Ariel Pandas 01.ipynb",
   "provenance": [
    {
     "file_id": "1q06bBq0smik_l_ayMAsVRWJ_PNfoqu4q",
     "timestamp": 1660117447574
    }
   ]
  },
  "kernelspec": {
   "display_name": "Python 3 (ipykernel)",
   "language": "python",
   "name": "python3"
  },
  "language_info": {
   "codemirror_mode": {
    "name": "ipython",
    "version": 3
   },
   "file_extension": ".py",
   "mimetype": "text/x-python",
   "name": "python",
   "nbconvert_exporter": "python",
   "pygments_lexer": "ipython3",
   "version": "3.9.13"
  }
 },
 "nbformat": 4,
 "nbformat_minor": 4
}
